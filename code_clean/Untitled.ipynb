{
 "cells": [
  {
   "cell_type": "markdown",
   "id": "8a1a2878",
   "metadata": {},
   "source": [
    "## Create tree directory\n",
    "\n",
    "./Zhou_stressGranules <br>\n",
    "├ code_clean <br>\n",
    "├ data_int <br>\n",
    "&nbsp;&nbsp;&nbsp;&nbsp;├ bam_subset <br>\n",
    "&nbsp;&nbsp;&nbsp;&nbsp;└ sampleSheets <br>\n",
    "   &nbsp;&nbsp;&nbsp;&nbsp;&nbsp;&nbsp;└ sampleSheets_sgRNA_split <br>\n",
    "└ output <br>\n",
    "&nbsp;&nbsp;&nbsp;&nbsp;└ 1_mRNAseq_output_alignment <br>"
   ]
  },
  {
   "cell_type": "markdown",
   "id": "703590f4",
   "metadata": {},
   "source": [
    "The experimental design of the run:\n",
    "\n",
    "| name | batch | condition | group |\n",
    "|---|---|---|---|\n",
    "| s1 | collA | totRNA_mock | All |\n",
    "| s2 | collA | totRNA_mock | All |\n",
    "| s3 | collB | totRNA_mock | All |\n",
    "| s4 | collA | totRNA_arsenite | treatment1 |\n",
    "| s5 | collB | totRNA_arsenite | treatment1 |\n",
    "| s6 | collB | totRNA_arsenite | treatment1 |\n",
    "| s7 | collB | totRNA_HS | treatment2 |\n",
    "| s8 | collB | totRNA_HS | treatment2 |\n",
    "| s9 | collB | totRNA_HS | treatment2 |\n",
    "| s10 | collA | totRNA_NaCl | treatment3 |\n",
    "| s11 | collB | totRNA_NaCl | treatment3 |\n",
    "| s12 | collB | totRNA_NaCl | treatment3 |\n",
    "| s13 | collA | totRNA_UV | treatment4 |\n",
    "| s14 | collA | totRNA_UV | treatment4 |\n",
    "| s15 | collB | totRNA_UV | treatment4 |\n",
    "| s16 | collA | sgRNA_arsenite | treatment1 |\n",
    "| s17 | collB | sgRNA_arsenite | treatment1 |\n",
    "| s18 | collB | sgRNA_arsenite | treatment1 |\n",
    "| s19 | collB | sgRNA_HS | treatment2 |\n",
    "| s20 | collB | sgRNA_HS | treatment2 |\n",
    "| s21 | collB | sgRNA_HS | treatment2 |\n",
    "| s22 | collA | sgRNA_NaCl | treatment3 |\n",
    "| s23 | collB | sgRNA_NaCl | treatment3 |\n",
    "| s24 | collB | sgRNA_NaCl | treatment3 |\n",
    "| s25 | collA | sgRNA_UV | treatment4 |\n",
    "| s26 | collA | sgRNA_UV | treatment4 |\n",
    "| s27 | collB | sgRNA_UV | treatment4 |"
   ]
  },
  {
   "cell_type": "markdown",
   "id": "1d49bdf8",
   "metadata": {},
   "source": [
    "In order to run the following scripts, do the following:\n",
    "- install the conda environment  \n",
    "  - besides the normal conda channels, some other channels are needed to install all the packages; e.g. `-c mvdbeek -c mpi-ie`\n",
    "- either: \n",
    "   - create the directory structure with the script provided - to match the 'sources.yaml'  or\n",
    "   - modify the input directories and references that are saved in the 'sources.yaml' file"
   ]
  },
  {
   "cell_type": "markdown",
   "id": "fbd26250",
   "metadata": {},
   "source": [
    "## 1) Processing bam files\n",
    "\n",
    "### A) arrange the sample sheet for running snakePipes*\n",
    "\n",
    "DESeq from mRNA-seq pipeline takes the 1st sample as control for all comparisons. But sample 'totRNA_mock' is control only for 'totRNA*' samples, not for the rest. \n",
    "\n",
    "a) first split the 'all_batch_corrected_sampleSheet.tsv' sample sheet to get the one for 'totRNA_*' samples."
   ]
  },
  {
   "cell_type": "raw",
   "id": "0fb72a48",
   "metadata": {},
   "source": [
    " awk '{FS=OFS=\"\\t\"}{if($3~/^tot/) print $0}NR==1' all_batch_corrected_sampleSheet.tsv > totalRNA_corrected_sampleSheet.tsv"
   ]
  },
  {
   "cell_type": "markdown",
   "id": "6f42cd43",
   "metadata": {},
   "source": [
    "b) In rest, for 'sgRNA_*' samples, the comparisons were done in separate sample sheets, that were obtained like this:"
   ]
  },
  {
   "cell_type": "raw",
   "id": "0c846899",
   "metadata": {},
   "source": [
    "## split all the sgRNA samples from the main sample sheet:\n",
    "awk '{FS=OFS=\"\\t\"}{if($3~/^sg/) print $0}NR==1' all_batch_corrected_sampleSheet.tsv > batch_sgRNA_corrected_sampleSheet.tsv\n",
    "\n",
    "## split the sample sheet that contains all the sgRNA samples into 2 by 2 experimental conditions. E.g:\n",
    "awk 'NR<=1 || $3==\"sgRNA_arsenite\" || $3 == \"sgRNA_HS\"' batch_sgRNA_corrected_sampleSheet.tsv > ./sampleSheets_sgRNA_split/batch_sgRNA_ars_HS.tsv"
   ]
  },
  {
   "cell_type": "markdown",
   "id": "c85e64f1",
   "metadata": {},
   "source": [
    "### B) Running mRNA-seq snakePipes\n",
    "The basic comand is:"
   ]
  },
  {
   "cell_type": "raw",
   "id": "96e39d23",
   "metadata": {},
   "source": [
    "'mRNA-seq -i ${in_bam} -o ${out_dir} \\\n",
    "        -v -j 20 --DAG --sampleSheet ${sampSheet}  --fromBAM hg38'"
   ]
  },
  {
   "cell_type": "markdown",
   "id": "72741fcb",
   "metadata": {},
   "source": [
    "To run the mRNA-seq snakePipes with **'alignment,deepTools_qc' mode** to map reads to reference genome, then count the features using 'featureCount' and then doing DESeq analysis, start from 'bam' files (to save time) and run either:  \n",
    "a) to run only one sample sheet such as the 'batch_totalRNA_corrected_sampleSheet.tsv', run script '1a_mRNAseq_align_1SampleSheet.sh'."
   ]
  },
  {
   "cell_type": "raw",
   "id": "b5eb0a28",
   "metadata": {},
   "source": [
    "bash 1a_mRNAseq_align_1SampleSheet.sh"
   ]
  },
  {
   "cell_type": "markdown",
   "id": "f8f55a55",
   "metadata": {},
   "source": [
    "b) to run all the split sample sheets at once, run script '1b_mRNAseq_align_splitSampleSheets.sh' by calling it with the name of the main project folder:"
   ]
  },
  {
   "cell_type": "raw",
   "id": "e28158f0",
   "metadata": {},
   "source": [
    "bash 1b_mRNAseq_align_splitSampleSheets.sh"
   ]
  },
  {
   "cell_type": "markdown",
   "id": "e54b519a",
   "metadata": {},
   "source": [
    "To run the mRNA-seq snakePipes with **'alignment-free' mode** in order to do transcript-level expression quantification using 'salmon' and then transcript-level differential expression with 'Sleuth' and general-level differential expression with 'wasabi' and 'DESeq2', you have to start from 'fastq' files and run either:      \n",
    "\n",
    "c) to run only one sample sheet such as the 'batch_totalRNA_corrected_sampleSheet.tsv', run script '1_mRNAseq_snakePipe_1SampleSheet.sh':  "
   ]
  },
  {
   "cell_type": "raw",
   "id": "472bb308",
   "metadata": {},
   "source": [
    "bash 1c_mRNAseq_tx_1SampleSheet.sh"
   ]
  },
  {
   "cell_type": "markdown",
   "id": "fdf2fe7e",
   "metadata": {},
   "source": [
    "d) to run all the split sample sheets at once, run script '1d_mRNAseq_tx_splitSampleSheets.sh':"
   ]
  },
  {
   "cell_type": "raw",
   "id": "18f375a0",
   "metadata": {},
   "source": [
    "bash 1d_mRNAseq_tx_splitSampleSheets.sh"
   ]
  },
  {
   "cell_type": "markdown",
   "id": "b562a6ad",
   "metadata": {},
   "source": [
    "## 2) Differential expression analysis  \n",
    "Read counting is done during the mRNA-seq pipeline and count matrix is in 'featureCounts' directory, or in 'sleuth' for alignment-free. \n",
    "\n",
    "For DE analysis, the general html reports are in the 'DESeq2_' folders of the same mRNA-seq run. For plotting specific contrasts, use the '2a_run2218_DESeq.Rmd' script."
   ]
  },
  {
   "cell_type": "markdown",
   "id": "b9142b38",
   "metadata": {},
   "source": [
    "## 3) QC for fastq files  \n",
    "To assess whether we have any contamination in the reads, use the '3_kraken_QC.sh' script and then plot the outcome with '3_run2218_kraken_contamination_figS3g.Rmd'.  \n",
    "\n",
    "To assess the read distribution, use the scripts '3_RSeQC.sh' and '3_run2218_RSeQC_readDistribution_fig2e.Rmd' to run RSeQC assesment.\n",
    "\n",
    "- the gene.gtf file was downloaded from:   \n",
    "    ftp.sanger.ac.uk/pub/gencode/Gencode_human/release_27/gencode.v27.chr_patch_hapl_scaff.annotation.gtf.gz\n",
    "    \n",
    "- the gene.bed file was obtained with this code:  "
   ]
  },
  {
   "cell_type": "raw",
   "id": "a6d7e70e",
   "metadata": {},
   "source": [
    "awk '{if ($$3 != \"gene\") print $$0;}' $< \\\n",
    "        | grep -v \"^#\" \\\n",
    "        | gtfToGenePred /data_int/references/GRCh38_v27.gtf  UCSC.pred\\\n",
    "        | genePredToBed UCSC.pred GRCh38_v27_genes.bed"
   ]
  },
  {
   "cell_type": "markdown",
   "id": "ac836a5c",
   "metadata": {},
   "source": [
    "## 5) Mutation Calling\n",
    "\n",
    "Using GATK's HaplotypeCaller. For that, it is required to have:  \n",
    "- an indexed reference genome; We have used GRCh38  "
   ]
  },
  {
   "cell_type": "raw",
   "id": "36286dcd",
   "metadata": {},
   "source": [
    "samtools faidx /data/repository/organisms/GRCh38_ensembl/genome_fasta/genome.fa \n",
    "\n",
    "java -Xmx2g -jar /package/picard-tools-1.121/CreateSequenceDictionary.jar REFERENCE=genome.fa OUTPUT=genome.dict"
   ]
  },
  {
   "cell_type": "markdown",
   "id": "fab367a7",
   "metadata": {},
   "source": [
    "- a bed file with only the gene coordinates located on main chromosomes [1-23XY], with a padding of 10bp \n",
    "\n",
    "    a) create the bed file with the coordinates of the chromosomes"
   ]
  },
  {
   "cell_type": "raw",
   "id": "249a0ed7",
   "metadata": {},
   "source": [
    "awk '/^[0-9XY]*\\t/ {printf(\"%s\\t0\\t%s\\n\",$1,$2);}' GRCh38_genome.fa.fai  > 1_chr.bed"
   ]
  },
  {
   "cell_type": "markdown",
   "id": "cbe0fa92",
   "metadata": {},
   "source": [
    "b) get only the coordinates for the genes from the gtf file"
   ]
  },
  {
   "cell_type": "raw",
   "id": "5167a61c",
   "metadata": {},
   "source": [
    " awk -v FS='\\t' -v OFS='\\t' '($3 == \"gene\")' /data_int/references/GRCh38_v27_genes.gtf | convert2bed --input='gtf' --attribute-key=\"gene_name\" -  > 2_genes_bedops.bed"
   ]
  },
  {
   "cell_type": "markdown",
   "id": "a55886a7",
   "metadata": {},
   "source": [
    "c) keep only the genes that are on main chromosomes:"
   ]
  },
  {
   "cell_type": "raw",
   "id": "687358a0",
   "metadata": {},
   "source": [
    "bedextract 2_genes_bedops.bed 1_chr.bed > 3_genes_chr_extract.bed"
   ]
  },
  {
   "cell_type": "markdown",
   "id": "04d8d99f",
   "metadata": {},
   "source": [
    "d) add 10bp padding to the genes"
   ]
  },
  {
   "cell_type": "raw",
   "id": "89988b7e",
   "metadata": {},
   "source": [
    "bedtools slop -header -i 3_genes_chr_extract.bed -g <( cut -f 1,3 1_chr.bed) -b 10 > GRCh38_v27_genes_slop_p10.bed\n",
    "\n",
    "rm 1_chr.bed 2_genes_bedops.bed 3_genes_chr_extract.bed"
   ]
  },
  {
   "cell_type": "markdown",
   "id": "6db7b05e",
   "metadata": {},
   "source": [
    "Scripts:  \n",
    "    - To prepare the files for HaplotypeCaller, run the script: **5_0prep_files.sh**  \n",
    "    - To run HaplotypeCaller in normal mode, run the script: **5_1HaplotypeCaller_normal.sh**  \n",
    "    - Necessary to get the number of bases (A,C,T,G) that were covered by the sequencing, run HaplotypeCaller in ERC mode: **5_2HaplotypeCaller_ERC.sh**  \n",
    "    - To extract the SNVs from the HaplotypeCaller normal run, use script:  \n",
    "    - To extract the number of bases covered by sequencing, use script:  "
   ]
  },
  {
   "cell_type": "code",
   "execution_count": null,
   "id": "045bc9c4",
   "metadata": {},
   "outputs": [],
   "source": []
  }
 ],
 "metadata": {
  "kernelspec": {
   "display_name": "SGproj_kernel",
   "language": "R",
   "name": "sgproj_kernel"
  },
  "language_info": {
   "codemirror_mode": "r",
   "file_extension": ".r",
   "mimetype": "text/x-r-source",
   "name": "R",
   "pygments_lexer": "r",
   "version": "4.2.2"
  }
 },
 "nbformat": 4,
 "nbformat_minor": 5
}
